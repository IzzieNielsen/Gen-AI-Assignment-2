{
  "cells": [
    {
      "cell_type": "markdown",
      "metadata": {
        "id": "0rlYoP7RVVOz"
      },
      "source": [
        "\n",
        "# GANs - Generative Adverserial Networks"
      ]
    },
    {
      "cell_type": "code",
      "execution_count": 18,
      "metadata": {
        "id": "lQS_KR9BVVO0"
      },
      "outputs": [],
      "source": [
        "import pandas as pd\n",
        "import numpy as np\n",
        "import matplotlib.pyplot as plt"
      ]
    },
    {
      "cell_type": "code",
      "execution_count": 19,
      "metadata": {
        "id": "CNatyMJ2VVO1"
      },
      "outputs": [],
      "source": [
        "from tensorflow.keras.datasets import cifar10"
      ]
    },
    {
      "cell_type": "code",
      "execution_count": 20,
      "metadata": {
        "id": "K30IykPyVVO1"
      },
      "outputs": [],
      "source": [
        "(X_train, y_train), (X_test, y_test) = cifar10.load_data()"
      ]
    },
    {
      "cell_type": "code",
      "execution_count": 21,
      "metadata": {
        "colab": {
          "base_uri": "https://localhost:8080/",
          "height": 448
        },
        "id": "EU02D83AVVO1",
        "outputId": "d6e9303c-b1d2-4e37-af8f-b397e8a69cda"
      },
      "outputs": [
        {
          "output_type": "execute_result",
          "data": {
            "text/plain": [
              "<matplotlib.image.AxesImage at 0x7e18c1edb5c0>"
            ]
          },
          "metadata": {},
          "execution_count": 21
        },
        {
          "output_type": "display_data",
          "data": {
            "text/plain": [
              "<Figure size 640x480 with 1 Axes>"
            ],
            "image/png": "[encoded data removed]"
          },
          "metadata": {}
        }
      ],
      "source": [
        "plt.imshow(X_train[0])"
      ]
    },
    {
      "cell_type": "code",
      "execution_count": 22,
      "metadata": {
        "colab": {
          "base_uri": "https://localhost:8080/"
        },
        "id": "xlW4T2fiVVO1",
        "outputId": "2b331d41-141e-4b91-d0dc-baa6c42f2343"
      },
      "outputs": [
        {
          "output_type": "execute_result",
          "data": {
            "text/plain": [
              "array([[6],\n",
              "       [9],\n",
              "       [9],\n",
              "       ...,\n",
              "       [9],\n",
              "       [1],\n",
              "       [1]], dtype=uint8)"
            ]
          },
          "metadata": {},
          "execution_count": 22
        }
      ],
      "source": [
        "y_train"
      ]
    },
    {
      "cell_type": "markdown",
      "metadata": {
        "id": "oZQr0D_kVVO1"
      },
      "source": [
        "## Reshape and Rescale Images for DCGAN\n",
        "\n",
        "Generator will use tanh activation function for the last layer, so we want to reshape X_train to be within -1 to 1 limits."
      ]
    },
    {
      "cell_type": "code",
      "execution_count": 23,
      "metadata": {
        "id": "7Qlnqb5QVVO1"
      },
      "outputs": [],
      "source": [
        "#X_train = X_train/255\n",
        "X_train = X_train.astype('float32')\n"
      ]
    },
    {
      "cell_type": "code",
      "execution_count": 24,
      "metadata": {
        "id": "4oEb4UJtVVO2"
      },
      "outputs": [],
      "source": [
        "# X_train = X_train.reshape(-1, 28, 28, 1) * 2. - 1.\n",
        "X_train = (X_train - 127.5) / 127.5"
      ]
    },
    {
      "cell_type": "code",
      "execution_count": 25,
      "metadata": {
        "colab": {
          "base_uri": "https://localhost:8080/"
        },
        "id": "1aDxhPoIVVO2",
        "outputId": "f797dda0-6e09-476f-a96d-6d210bf53f35"
      },
      "outputs": [
        {
          "output_type": "execute_result",
          "data": {
            "text/plain": [
              "np.float32(-1.0)"
            ]
          },
          "metadata": {},
          "execution_count": 25
        }
      ],
      "source": [
        "X_train.min()"
      ]
    },
    {
      "cell_type": "code",
      "execution_count": 26,
      "metadata": {
        "colab": {
          "base_uri": "https://localhost:8080/"
        },
        "id": "OPolTGtsVVO2",
        "outputId": "81d46656-5025-4152-c570-3dd1543ac12a"
      },
      "outputs": [
        {
          "output_type": "execute_result",
          "data": {
            "text/plain": [
              "np.float32(1.0)"
            ]
          },
          "metadata": {},
          "execution_count": 26
        }
      ],
      "source": [
        "X_train.max()"
      ]
    },
    {
      "cell_type": "markdown",
      "metadata": {
        "id": "d9LwK2hRVVO2"
      },
      "source": [
        "## Filtering out the Data for Faster Training on Smaller Dataset"
      ]
    },
    {
      "cell_type": "code",
      "execution_count": 27,
      "metadata": {
        "id": "jixPGpuqVVO2"
      },
      "outputs": [],
      "source": [
        "# only_zeros = X_train[y_train==0]"
      ]
    },
    {
      "cell_type": "code",
      "execution_count": 28,
      "metadata": {
        "id": "QT2oN4jUVVO2"
      },
      "outputs": [],
      "source": [
        "# only_zeros.shape"
      ]
    },
    {
      "cell_type": "code",
      "execution_count": 29,
      "metadata": {
        "id": "NzsG_WB6VVO2"
      },
      "outputs": [],
      "source": [
        "import tensorflow as tf\n",
        "from tensorflow.keras.layers import Dense,Reshape,Dropout,LeakyReLU,Flatten,BatchNormalization,Conv2D,Conv2DTranspose\n",
        "from tensorflow.keras.models import Sequential"
      ]
    },
    {
      "cell_type": "code",
      "execution_count": 30,
      "metadata": {
        "id": "YkCDoGa3VVO2"
      },
      "outputs": [],
      "source": [
        "np.random.seed(42)\n",
        "tf.random.set_seed(42)\n",
        "\n",
        "codings_size = 100"
      ]
    },
    {
      "cell_type": "code",
      "execution_count": 31,
      "metadata": {
        "colab": {
          "base_uri": "https://localhost:8080/"
        },
        "id": "3No_-d8rVVO2",
        "outputId": "b1ac61c4-88c3-4e22-827c-0bf3f19fe5dc"
      },
      "outputs": [
        {
          "output_type": "stream",
          "name": "stderr",
          "text": [
            "/usr/local/lib/python3.12/dist-packages/keras/src/layers/core/dense.py:93: UserWarning: Do not pass an `input_shape`/`input_dim` argument to a layer. When using Sequential models, prefer using an `Input(shape)` object as the first layer in the model instead.\n",
            "  super().__init__(activity_regularizer=activity_regularizer, **kwargs)\n"
          ]
        }
      ],
      "source": [
        "generator = Sequential()\n",
        "generator.add(Dense(8 * 8 * 128, input_shape=[codings_size])) # Adjusted dense layer for 32x32 output\n",
        "generator.add(Reshape([8, 8, 128])) # Adjusted reshape for 32x32 output\n",
        "generator.add(BatchNormalization())\n",
        "generator.add(Conv2DTranspose(64, kernel_size=5, strides=2, padding=\"same\",\n",
        "                                 activation=\"relu\"))\n",
        "generator.add(BatchNormalization())\n",
        "generator.add(Conv2DTranspose(3, kernel_size=5, strides=2, padding=\"same\",\n",
        "                                 activation=\"tanh\")) # Changed output channels to 3 for color images"
      ]
    },
    {
      "cell_type": "code",
      "execution_count": 32,
      "metadata": {
        "colab": {
          "base_uri": "https://localhost:8080/"
        },
        "id": "vhh2YmyeVVO2",
        "outputId": "42befcd1-0a91-4ec3-a14a-56daf099064d"
      },
      "outputs": [
        {
          "output_type": "stream",
          "name": "stderr",
          "text": [
            "/usr/local/lib/python3.12/dist-packages/keras/src/layers/convolutional/base_conv.py:113: UserWarning: Do not pass an `input_shape`/`input_dim` argument to a layer. When using Sequential models, prefer using an `Input(shape)` object as the first layer in the model instead.\n",
            "  super().__init__(activity_regularizer=activity_regularizer, **kwargs)\n"
          ]
        }
      ],
      "source": [
        "discriminator = Sequential()\n",
        "discriminator.add(Conv2D(64, kernel_size=5, strides=2, padding=\"same\",\n",
        "                        activation=LeakyReLU(0.3),\n",
        "                        input_shape=[32, 32, 3]))\n",
        "discriminator.add(Dropout(0.5))\n",
        "discriminator.add(Conv2D(128, kernel_size=5, strides=2, padding=\"same\",\n",
        "                        activation=LeakyReLU(0.3)))\n",
        "discriminator.add(Dropout(0.5))\n",
        "discriminator.add(Flatten())\n",
        "discriminator.add(Dense(1, activation=\"sigmoid\"))"
      ]
    },
    {
      "cell_type": "code",
      "execution_count": 33,
      "metadata": {
        "id": "0JOn59TyVVO2"
      },
      "outputs": [],
      "source": [
        "GAN = Sequential([generator, discriminator])"
      ]
    },
    {
      "cell_type": "code",
      "execution_count": 34,
      "metadata": {
        "id": "02u1_jPKVVO2"
      },
      "outputs": [],
      "source": [
        "discriminator.compile(loss=\"binary_crossentropy\", optimizer=\"adam\")\n",
        "discriminator.trainable = False"
      ]
    },
    {
      "cell_type": "code",
      "execution_count": 35,
      "metadata": {
        "id": "NORPdL7TVVO2"
      },
      "outputs": [],
      "source": [
        "GAN.compile(loss=\"binary_crossentropy\", optimizer=\"adam\")"
      ]
    },
    {
      "cell_type": "code",
      "execution_count": 36,
      "metadata": {
        "colab": {
          "base_uri": "https://localhost:8080/"
        },
        "id": "KfTIfOowVVO2",
        "outputId": "39599186-f5e6-4056-c4bf-2e5b74baf038"
      },
      "outputs": [
        {
          "output_type": "execute_result",
          "data": {
            "text/plain": [
              "[<Sequential name=sequential_3, built=True>,\n",
              " <Sequential name=sequential_4, built=True>]"
            ]
          },
          "metadata": {},
          "execution_count": 36
        }
      ],
      "source": [
        "GAN.layers"
      ]
    },
    {
      "cell_type": "code",
      "execution_count": 37,
      "metadata": {
        "colab": {
          "base_uri": "https://localhost:8080/",
          "height": 199
        },
        "id": "akjT74KgVVO2",
        "outputId": "a9247653-81b9-4c6e-be5f-53d0acd8e37d"
      },
      "outputs": [
        {
          "output_type": "display_data",
          "data": {
            "text/plain": [
              "\u001b[1mModel: \"sequential_5\"\u001b[0m\n"
            ],
            "text/html": [
              "<pre style=\"white-space:pre;overflow-x:auto;line-height:normal;font-family:Menlo,'DejaVu Sans Mono',consolas,'Courier New',monospace\"><span style=\"font-weight: bold\">Model: \"sequential_5\"</span>\n",
              "</pre>\n"
            ]
          },
          "metadata": {}
        },
        {
          "output_type": "display_data",
          "data": {
            "text/plain": [
              "┏━━━━━━━━━━━━━━━━━━━━━━━━━━━━━━━━━┳━━━━━━━━━━━━━━━━━━━━━━━━┳━━━━━━━━━━━━━━━┓\n",
              "┃\u001b[1m \u001b[0m\u001b[1mLayer (type)                   \u001b[0m\u001b[1m \u001b[0m┃\u001b[1m \u001b[0m\u001b[1mOutput Shape          \u001b[0m\u001b[1m \u001b[0m┃\u001b[1m \u001b[0m\u001b[1m      Param #\u001b[0m\u001b[1m \u001b[0m┃\n",
              "┡━━━━━━━━━━━━━━━━━━━━━━━━━━━━━━━━━╇━━━━━━━━━━━━━━━━━━━━━━━━╇━━━━━━━━━━━━━━━┩\n",
              "│ sequential_3 (\u001b[38;5;33mSequential\u001b[0m)       │ (\u001b[38;5;45mNone\u001b[0m, \u001b[38;5;34m32\u001b[0m, \u001b[38;5;34m32\u001b[0m, \u001b[38;5;34m3\u001b[0m)      │     \u001b[38;5;34m1,037,827\u001b[0m │\n",
              "├─────────────────────────────────┼────────────────────────┼───────────────┤\n",
              "│ sequential_4 (\u001b[38;5;33mSequential\u001b[0m)       │ (\u001b[38;5;45mNone\u001b[0m, \u001b[38;5;34m1\u001b[0m)              │       \u001b[38;5;34m217,985\u001b[0m │\n",
              "└─────────────────────────────────┴────────────────────────┴───────────────┘\n"
            ],
            "text/html": [
              "<pre style=\"white-space:pre;overflow-x:auto;line-height:normal;font-family:Menlo,'DejaVu Sans Mono',consolas,'Courier New',monospace\">┏━━━━━━━━━━━━━━━━━━━━━━━━━━━━━━━━━┳━━━━━━━━━━━━━━━━━━━━━━━━┳━━━━━━━━━━━━━━━┓\n",
              "┃<span style=\"font-weight: bold\"> Layer (type)                    </span>┃<span style=\"font-weight: bold\"> Output Shape           </span>┃<span style=\"font-weight: bold\">       Param # </span>┃\n",
              "┡━━━━━━━━━━━━━━━━━━━━━━━━━━━━━━━━━╇━━━━━━━━━━━━━━━━━━━━━━━━╇━━━━━━━━━━━━━━━┩\n",
              "│ sequential_3 (<span style=\"color: #0087ff; text-decoration-color: #0087ff\">Sequential</span>)       │ (<span style=\"color: #00d7ff; text-decoration-color: #00d7ff\">None</span>, <span style=\"color: #00af00; text-decoration-color: #00af00\">32</span>, <span style=\"color: #00af00; text-decoration-color: #00af00\">32</span>, <span style=\"color: #00af00; text-decoration-color: #00af00\">3</span>)      │     <span style=\"color: #00af00; text-decoration-color: #00af00\">1,037,827</span> │\n",
              "├─────────────────────────────────┼────────────────────────┼───────────────┤\n",
              "│ sequential_4 (<span style=\"color: #0087ff; text-decoration-color: #0087ff\">Sequential</span>)       │ (<span style=\"color: #00d7ff; text-decoration-color: #00d7ff\">None</span>, <span style=\"color: #00af00; text-decoration-color: #00af00\">1</span>)              │       <span style=\"color: #00af00; text-decoration-color: #00af00\">217,985</span> │\n",
              "└─────────────────────────────────┴────────────────────────┴───────────────┘\n",
              "</pre>\n"
            ]
          },
          "metadata": {}
        },
        {
          "output_type": "display_data",
          "data": {
            "text/plain": [
              "\u001b[1m Total params: \u001b[0m\u001b[38;5;34m1,255,812\u001b[0m (4.79 MB)\n"
            ],
            "text/html": [
              "<pre style=\"white-space:pre;overflow-x:auto;line-height:normal;font-family:Menlo,'DejaVu Sans Mono',consolas,'Courier New',monospace\"><span style=\"font-weight: bold\"> Total params: </span><span style=\"color: #00af00; text-decoration-color: #00af00\">1,255,812</span> (4.79 MB)\n",
              "</pre>\n"
            ]
          },
          "metadata": {}
        },
        {
          "output_type": "display_data",
          "data": {
            "text/plain": [
              "\u001b[1m Trainable params: \u001b[0m\u001b[38;5;34m1,037,443\u001b[0m (3.96 MB)\n"
            ],
            "text/html": [
              "<pre style=\"white-space:pre;overflow-x:auto;line-height:normal;font-family:Menlo,'DejaVu Sans Mono',consolas,'Courier New',monospace\"><span style=\"font-weight: bold\"> Trainable params: </span><span style=\"color: #00af00; text-decoration-color: #00af00\">1,037,443</span> (3.96 MB)\n",
              "</pre>\n"
            ]
          },
          "metadata": {}
        },
        {
          "output_type": "display_data",
          "data": {
            "text/plain": [
              "\u001b[1m Non-trainable params: \u001b[0m\u001b[38;5;34m218,369\u001b[0m (853.00 KB)\n"
            ],
            "text/html": [
              "<pre style=\"white-space:pre;overflow-x:auto;line-height:normal;font-family:Menlo,'DejaVu Sans Mono',consolas,'Courier New',monospace\"><span style=\"font-weight: bold\"> Non-trainable params: </span><span style=\"color: #00af00; text-decoration-color: #00af00\">218,369</span> (853.00 KB)\n",
              "</pre>\n"
            ]
          },
          "metadata": {}
        }
      ],
      "source": [
        "GAN.summary()"
      ]
    },
    {
      "cell_type": "code",
      "execution_count": 38,
      "metadata": {
        "colab": {
          "base_uri": "https://localhost:8080/",
          "height": 397
        },
        "id": "cqSWGvGjVVO2",
        "outputId": "58937696-b48c-43eb-e811-28896f008553"
      },
      "outputs": [
        {
          "output_type": "display_data",
          "data": {
            "text/plain": [
              "\u001b[1mModel: \"sequential_3\"\u001b[0m\n"
            ],
            "text/html": [
              "<pre style=\"white-space:pre;overflow-x:auto;line-height:normal;font-family:Menlo,'DejaVu Sans Mono',consolas,'Courier New',monospace\"><span style=\"font-weight: bold\">Model: \"sequential_3\"</span>\n",
              "</pre>\n"
            ]
          },
          "metadata": {}
        },
        {
          "output_type": "display_data",
          "data": {
            "text/plain": [
              "┏━━━━━━━━━━━━━━━━━━━━━━━━━━━━━━━━━┳━━━━━━━━━━━━━━━━━━━━━━━━┳━━━━━━━━━━━━━━━┓\n",
              "┃\u001b[1m \u001b[0m\u001b[1mLayer (type)                   \u001b[0m\u001b[1m \u001b[0m┃\u001b[1m \u001b[0m\u001b[1mOutput Shape          \u001b[0m\u001b[1m \u001b[0m┃\u001b[1m \u001b[0m\u001b[1m      Param #\u001b[0m\u001b[1m \u001b[0m┃\n",
              "┡━━━━━━━━━━━━━━━━━━━━━━━━━━━━━━━━━╇━━━━━━━━━━━━━━━━━━━━━━━━╇━━━━━━━━━━━━━━━┩\n",
              "│ dense_2 (\u001b[38;5;33mDense\u001b[0m)                 │ (\u001b[38;5;45mNone\u001b[0m, \u001b[38;5;34m8192\u001b[0m)           │       \u001b[38;5;34m827,392\u001b[0m │\n",
              "├─────────────────────────────────┼────────────────────────┼───────────────┤\n",
              "│ reshape_1 (\u001b[38;5;33mReshape\u001b[0m)             │ (\u001b[38;5;45mNone\u001b[0m, \u001b[38;5;34m8\u001b[0m, \u001b[38;5;34m8\u001b[0m, \u001b[38;5;34m128\u001b[0m)      │             \u001b[38;5;34m0\u001b[0m │\n",
              "├─────────────────────────────────┼────────────────────────┼───────────────┤\n",
              "│ batch_normalization_2           │ (\u001b[38;5;45mNone\u001b[0m, \u001b[38;5;34m8\u001b[0m, \u001b[38;5;34m8\u001b[0m, \u001b[38;5;34m128\u001b[0m)      │           \u001b[38;5;34m512\u001b[0m │\n",
              "│ (\u001b[38;5;33mBatchNormalization\u001b[0m)            │                        │               │\n",
              "├─────────────────────────────────┼────────────────────────┼───────────────┤\n",
              "│ conv2d_transpose_2              │ (\u001b[38;5;45mNone\u001b[0m, \u001b[38;5;34m16\u001b[0m, \u001b[38;5;34m16\u001b[0m, \u001b[38;5;34m64\u001b[0m)     │       \u001b[38;5;34m204,864\u001b[0m │\n",
              "│ (\u001b[38;5;33mConv2DTranspose\u001b[0m)               │                        │               │\n",
              "├─────────────────────────────────┼────────────────────────┼───────────────┤\n",
              "│ batch_normalization_3           │ (\u001b[38;5;45mNone\u001b[0m, \u001b[38;5;34m16\u001b[0m, \u001b[38;5;34m16\u001b[0m, \u001b[38;5;34m64\u001b[0m)     │           \u001b[38;5;34m256\u001b[0m │\n",
              "│ (\u001b[38;5;33mBatchNormalization\u001b[0m)            │                        │               │\n",
              "├─────────────────────────────────┼────────────────────────┼───────────────┤\n",
              "│ conv2d_transpose_3              │ (\u001b[38;5;45mNone\u001b[0m, \u001b[38;5;34m32\u001b[0m, \u001b[38;5;34m32\u001b[0m, \u001b[38;5;34m3\u001b[0m)      │         \u001b[38;5;34m4,803\u001b[0m │\n",
              "│ (\u001b[38;5;33mConv2DTranspose\u001b[0m)               │                        │               │\n",
              "└─────────────────────────────────┴────────────────────────┴───────────────┘\n"
            ],
            "text/html": [
              "<pre style=\"white-space:pre;overflow-x:auto;line-height:normal;font-family:Menlo,'DejaVu Sans Mono',consolas,'Courier New',monospace\">┏━━━━━━━━━━━━━━━━━━━━━━━━━━━━━━━━━┳━━━━━━━━━━━━━━━━━━━━━━━━┳━━━━━━━━━━━━━━━┓\n",
              "┃<span style=\"font-weight: bold\"> Layer (type)                    </span>┃<span style=\"font-weight: bold\"> Output Shape           </span>┃<span style=\"font-weight: bold\">       Param # </span>┃\n",
              "┡━━━━━━━━━━━━━━━━━━━━━━━━━━━━━━━━━╇━━━━━━━━━━━━━━━━━━━━━━━━╇━━━━━━━━━━━━━━━┩\n",
              "│ dense_2 (<span style=\"color: #0087ff; text-decoration-color: #0087ff\">Dense</span>)                 │ (<span style=\"color: #00d7ff; text-decoration-color: #00d7ff\">None</span>, <span style=\"color: #00af00; text-decoration-color: #00af00\">8192</span>)           │       <span style=\"color: #00af00; text-decoration-color: #00af00\">827,392</span> │\n",
              "├─────────────────────────────────┼────────────────────────┼───────────────┤\n",
              "│ reshape_1 (<span style=\"color: #0087ff; text-decoration-color: #0087ff\">Reshape</span>)             │ (<span style=\"color: #00d7ff; text-decoration-color: #00d7ff\">None</span>, <span style=\"color: #00af00; text-decoration-color: #00af00\">8</span>, <span style=\"color: #00af00; text-decoration-color: #00af00\">8</span>, <span style=\"color: #00af00; text-decoration-color: #00af00\">128</span>)      │             <span style=\"color: #00af00; text-decoration-color: #00af00\">0</span> │\n",
              "├─────────────────────────────────┼────────────────────────┼───────────────┤\n",
              "│ batch_normalization_2           │ (<span style=\"color: #00d7ff; text-decoration-color: #00d7ff\">None</span>, <span style=\"color: #00af00; text-decoration-color: #00af00\">8</span>, <span style=\"color: #00af00; text-decoration-color: #00af00\">8</span>, <span style=\"color: #00af00; text-decoration-color: #00af00\">128</span>)      │           <span style=\"color: #00af00; text-decoration-color: #00af00\">512</span> │\n",
              "│ (<span style=\"color: #0087ff; text-decoration-color: #0087ff\">BatchNormalization</span>)            │                        │               │\n",
              "├─────────────────────────────────┼────────────────────────┼───────────────┤\n",
              "│ conv2d_transpose_2              │ (<span style=\"color: #00d7ff; text-decoration-color: #00d7ff\">None</span>, <span style=\"color: #00af00; text-decoration-color: #00af00\">16</span>, <span style=\"color: #00af00; text-decoration-color: #00af00\">16</span>, <span style=\"color: #00af00; text-decoration-color: #00af00\">64</span>)     │       <span style=\"color: #00af00; text-decoration-color: #00af00\">204,864</span> │\n",
              "│ (<span style=\"color: #0087ff; text-decoration-color: #0087ff\">Conv2DTranspose</span>)               │                        │               │\n",
              "├─────────────────────────────────┼────────────────────────┼───────────────┤\n",
              "│ batch_normalization_3           │ (<span style=\"color: #00d7ff; text-decoration-color: #00d7ff\">None</span>, <span style=\"color: #00af00; text-decoration-color: #00af00\">16</span>, <span style=\"color: #00af00; text-decoration-color: #00af00\">16</span>, <span style=\"color: #00af00; text-decoration-color: #00af00\">64</span>)     │           <span style=\"color: #00af00; text-decoration-color: #00af00\">256</span> │\n",
              "│ (<span style=\"color: #0087ff; text-decoration-color: #0087ff\">BatchNormalization</span>)            │                        │               │\n",
              "├─────────────────────────────────┼────────────────────────┼───────────────┤\n",
              "│ conv2d_transpose_3              │ (<span style=\"color: #00d7ff; text-decoration-color: #00d7ff\">None</span>, <span style=\"color: #00af00; text-decoration-color: #00af00\">32</span>, <span style=\"color: #00af00; text-decoration-color: #00af00\">32</span>, <span style=\"color: #00af00; text-decoration-color: #00af00\">3</span>)      │         <span style=\"color: #00af00; text-decoration-color: #00af00\">4,803</span> │\n",
              "│ (<span style=\"color: #0087ff; text-decoration-color: #0087ff\">Conv2DTranspose</span>)               │                        │               │\n",
              "└─────────────────────────────────┴────────────────────────┴───────────────┘\n",
              "</pre>\n"
            ]
          },
          "metadata": {}
        },
        {
          "output_type": "display_data",
          "data": {
            "text/plain": [
              "\u001b[1m Total params: \u001b[0m\u001b[38;5;34m1,037,827\u001b[0m (3.96 MB)\n"
            ],
            "text/html": [
              "<pre style=\"white-space:pre;overflow-x:auto;line-height:normal;font-family:Menlo,'DejaVu Sans Mono',consolas,'Courier New',monospace\"><span style=\"font-weight: bold\"> Total params: </span><span style=\"color: #00af00; text-decoration-color: #00af00\">1,037,827</span> (3.96 MB)\n",
              "</pre>\n"
            ]
          },
          "metadata": {}
        },
        {
          "output_type": "display_data",
          "data": {
            "text/plain": [
              "\u001b[1m Trainable params: \u001b[0m\u001b[38;5;34m1,037,443\u001b[0m (3.96 MB)\n"
            ],
            "text/html": [
              "<pre style=\"white-space:pre;overflow-x:auto;line-height:normal;font-family:Menlo,'DejaVu Sans Mono',consolas,'Courier New',monospace\"><span style=\"font-weight: bold\"> Trainable params: </span><span style=\"color: #00af00; text-decoration-color: #00af00\">1,037,443</span> (3.96 MB)\n",
              "</pre>\n"
            ]
          },
          "metadata": {}
        },
        {
          "output_type": "display_data",
          "data": {
            "text/plain": [
              "\u001b[1m Non-trainable params: \u001b[0m\u001b[38;5;34m384\u001b[0m (1.50 KB)\n"
            ],
            "text/html": [
              "<pre style=\"white-space:pre;overflow-x:auto;line-height:normal;font-family:Menlo,'DejaVu Sans Mono',consolas,'Courier New',monospace\"><span style=\"font-weight: bold\"> Non-trainable params: </span><span style=\"color: #00af00; text-decoration-color: #00af00\">384</span> (1.50 KB)\n",
              "</pre>\n"
            ]
          },
          "metadata": {}
        }
      ],
      "source": [
        "GAN.layers[0].summary()"
      ]
    },
    {
      "cell_type": "code",
      "execution_count": 39,
      "metadata": {
        "colab": {
          "base_uri": "https://localhost:8080/",
          "height": 331
        },
        "id": "v7hrL7MPVVO2",
        "outputId": "abf3b38c-d0e6-4663-f17c-f94d82806112"
      },
      "outputs": [
        {
          "output_type": "display_data",
          "data": {
            "text/plain": [
              "\u001b[1mModel: \"sequential_4\"\u001b[0m\n"
            ],
            "text/html": [
              "<pre style=\"white-space:pre;overflow-x:auto;line-height:normal;font-family:Menlo,'DejaVu Sans Mono',consolas,'Courier New',monospace\"><span style=\"font-weight: bold\">Model: \"sequential_4\"</span>\n",
              "</pre>\n"
            ]
          },
          "metadata": {}
        },
        {
          "output_type": "display_data",
          "data": {
            "text/plain": [
              "┏━━━━━━━━━━━━━━━━━━━━━━━━━━━━━━━━━┳━━━━━━━━━━━━━━━━━━━━━━━━┳━━━━━━━━━━━━━━━┓\n",
              "┃\u001b[1m \u001b[0m\u001b[1mLayer (type)                   \u001b[0m\u001b[1m \u001b[0m┃\u001b[1m \u001b[0m\u001b[1mOutput Shape          \u001b[0m\u001b[1m \u001b[0m┃\u001b[1m \u001b[0m\u001b[1m      Param #\u001b[0m\u001b[1m \u001b[0m┃\n",
              "┡━━━━━━━━━━━━━━━━━━━━━━━━━━━━━━━━━╇━━━━━━━━━━━━━━━━━━━━━━━━╇━━━━━━━━━━━━━━━┩\n",
              "│ conv2d_2 (\u001b[38;5;33mConv2D\u001b[0m)               │ (\u001b[38;5;45mNone\u001b[0m, \u001b[38;5;34m16\u001b[0m, \u001b[38;5;34m16\u001b[0m, \u001b[38;5;34m64\u001b[0m)     │         \u001b[38;5;34m4,864\u001b[0m │\n",
              "├─────────────────────────────────┼────────────────────────┼───────────────┤\n",
              "│ dropout_2 (\u001b[38;5;33mDropout\u001b[0m)             │ (\u001b[38;5;45mNone\u001b[0m, \u001b[38;5;34m16\u001b[0m, \u001b[38;5;34m16\u001b[0m, \u001b[38;5;34m64\u001b[0m)     │             \u001b[38;5;34m0\u001b[0m │\n",
              "├─────────────────────────────────┼────────────────────────┼───────────────┤\n",
              "│ conv2d_3 (\u001b[38;5;33mConv2D\u001b[0m)               │ (\u001b[38;5;45mNone\u001b[0m, \u001b[38;5;34m8\u001b[0m, \u001b[38;5;34m8\u001b[0m, \u001b[38;5;34m128\u001b[0m)      │       \u001b[38;5;34m204,928\u001b[0m │\n",
              "├─────────────────────────────────┼────────────────────────┼───────────────┤\n",
              "│ dropout_3 (\u001b[38;5;33mDropout\u001b[0m)             │ (\u001b[38;5;45mNone\u001b[0m, \u001b[38;5;34m8\u001b[0m, \u001b[38;5;34m8\u001b[0m, \u001b[38;5;34m128\u001b[0m)      │             \u001b[38;5;34m0\u001b[0m │\n",
              "├─────────────────────────────────┼────────────────────────┼───────────────┤\n",
              "│ flatten_1 (\u001b[38;5;33mFlatten\u001b[0m)             │ (\u001b[38;5;45mNone\u001b[0m, \u001b[38;5;34m8192\u001b[0m)           │             \u001b[38;5;34m0\u001b[0m │\n",
              "├─────────────────────────────────┼────────────────────────┼───────────────┤\n",
              "│ dense_3 (\u001b[38;5;33mDense\u001b[0m)                 │ (\u001b[38;5;45mNone\u001b[0m, \u001b[38;5;34m1\u001b[0m)              │         \u001b[38;5;34m8,193\u001b[0m │\n",
              "└─────────────────────────────────┴────────────────────────┴───────────────┘\n"
            ],
            "text/html": [
              "<pre style=\"white-space:pre;overflow-x:auto;line-height:normal;font-family:Menlo,'DejaVu Sans Mono',consolas,'Courier New',monospace\">┏━━━━━━━━━━━━━━━━━━━━━━━━━━━━━━━━━┳━━━━━━━━━━━━━━━━━━━━━━━━┳━━━━━━━━━━━━━━━┓\n",
              "┃<span style=\"font-weight: bold\"> Layer (type)                    </span>┃<span style=\"font-weight: bold\"> Output Shape           </span>┃<span style=\"font-weight: bold\">       Param # </span>┃\n",
              "┡━━━━━━━━━━━━━━━━━━━━━━━━━━━━━━━━━╇━━━━━━━━━━━━━━━━━━━━━━━━╇━━━━━━━━━━━━━━━┩\n",
              "│ conv2d_2 (<span style=\"color: #0087ff; text-decoration-color: #0087ff\">Conv2D</span>)               │ (<span style=\"color: #00d7ff; text-decoration-color: #00d7ff\">None</span>, <span style=\"color: #00af00; text-decoration-color: #00af00\">16</span>, <span style=\"color: #00af00; text-decoration-color: #00af00\">16</span>, <span style=\"color: #00af00; text-decoration-color: #00af00\">64</span>)     │         <span style=\"color: #00af00; text-decoration-color: #00af00\">4,864</span> │\n",
              "├─────────────────────────────────┼────────────────────────┼───────────────┤\n",
              "│ dropout_2 (<span style=\"color: #0087ff; text-decoration-color: #0087ff\">Dropout</span>)             │ (<span style=\"color: #00d7ff; text-decoration-color: #00d7ff\">None</span>, <span style=\"color: #00af00; text-decoration-color: #00af00\">16</span>, <span style=\"color: #00af00; text-decoration-color: #00af00\">16</span>, <span style=\"color: #00af00; text-decoration-color: #00af00\">64</span>)     │             <span style=\"color: #00af00; text-decoration-color: #00af00\">0</span> │\n",
              "├─────────────────────────────────┼────────────────────────┼───────────────┤\n",
              "│ conv2d_3 (<span style=\"color: #0087ff; text-decoration-color: #0087ff\">Conv2D</span>)               │ (<span style=\"color: #00d7ff; text-decoration-color: #00d7ff\">None</span>, <span style=\"color: #00af00; text-decoration-color: #00af00\">8</span>, <span style=\"color: #00af00; text-decoration-color: #00af00\">8</span>, <span style=\"color: #00af00; text-decoration-color: #00af00\">128</span>)      │       <span style=\"color: #00af00; text-decoration-color: #00af00\">204,928</span> │\n",
              "├─────────────────────────────────┼────────────────────────┼───────────────┤\n",
              "│ dropout_3 (<span style=\"color: #0087ff; text-decoration-color: #0087ff\">Dropout</span>)             │ (<span style=\"color: #00d7ff; text-decoration-color: #00d7ff\">None</span>, <span style=\"color: #00af00; text-decoration-color: #00af00\">8</span>, <span style=\"color: #00af00; text-decoration-color: #00af00\">8</span>, <span style=\"color: #00af00; text-decoration-color: #00af00\">128</span>)      │             <span style=\"color: #00af00; text-decoration-color: #00af00\">0</span> │\n",
              "├─────────────────────────────────┼────────────────────────┼───────────────┤\n",
              "│ flatten_1 (<span style=\"color: #0087ff; text-decoration-color: #0087ff\">Flatten</span>)             │ (<span style=\"color: #00d7ff; text-decoration-color: #00d7ff\">None</span>, <span style=\"color: #00af00; text-decoration-color: #00af00\">8192</span>)           │             <span style=\"color: #00af00; text-decoration-color: #00af00\">0</span> │\n",
              "├─────────────────────────────────┼────────────────────────┼───────────────┤\n",
              "│ dense_3 (<span style=\"color: #0087ff; text-decoration-color: #0087ff\">Dense</span>)                 │ (<span style=\"color: #00d7ff; text-decoration-color: #00d7ff\">None</span>, <span style=\"color: #00af00; text-decoration-color: #00af00\">1</span>)              │         <span style=\"color: #00af00; text-decoration-color: #00af00\">8,193</span> │\n",
              "└─────────────────────────────────┴────────────────────────┴───────────────┘\n",
              "</pre>\n"
            ]
          },
          "metadata": {}
        },
        {
          "output_type": "display_data",
          "data": {
            "text/plain": [
              "\u001b[1m Total params: \u001b[0m\u001b[38;5;34m217,985\u001b[0m (851.50 KB)\n"
            ],
            "text/html": [
              "<pre style=\"white-space:pre;overflow-x:auto;line-height:normal;font-family:Menlo,'DejaVu Sans Mono',consolas,'Courier New',monospace\"><span style=\"font-weight: bold\"> Total params: </span><span style=\"color: #00af00; text-decoration-color: #00af00\">217,985</span> (851.50 KB)\n",
              "</pre>\n"
            ]
          },
          "metadata": {}
        },
        {
          "output_type": "display_data",
          "data": {
            "text/plain": [
              "\u001b[1m Trainable params: \u001b[0m\u001b[38;5;34m0\u001b[0m (0.00 B)\n"
            ],
            "text/html": [
              "<pre style=\"white-space:pre;overflow-x:auto;line-height:normal;font-family:Menlo,'DejaVu Sans Mono',consolas,'Courier New',monospace\"><span style=\"font-weight: bold\"> Trainable params: </span><span style=\"color: #00af00; text-decoration-color: #00af00\">0</span> (0.00 B)\n",
              "</pre>\n"
            ]
          },
          "metadata": {}
        },
        {
          "output_type": "display_data",
          "data": {
            "text/plain": [
              "\u001b[1m Non-trainable params: \u001b[0m\u001b[38;5;34m217,985\u001b[0m (851.50 KB)\n"
            ],
            "text/html": [
              "<pre style=\"white-space:pre;overflow-x:auto;line-height:normal;font-family:Menlo,'DejaVu Sans Mono',consolas,'Courier New',monospace\"><span style=\"font-weight: bold\"> Non-trainable params: </span><span style=\"color: #00af00; text-decoration-color: #00af00\">217,985</span> (851.50 KB)\n",
              "</pre>\n"
            ]
          },
          "metadata": {}
        }
      ],
      "source": [
        "GAN.layers[1].summary()"
      ]
    },
    {
      "cell_type": "markdown",
      "metadata": {
        "id": "MpMwS-QRVVO2"
      },
      "source": [
        "### Setting up Training Batches"
      ]
    },
    {
      "cell_type": "code",
      "execution_count": 40,
      "metadata": {
        "id": "NAi2uA94VVO2"
      },
      "outputs": [],
      "source": [
        "import tensorflow as tf"
      ]
    },
    {
      "cell_type": "code",
      "execution_count": 41,
      "metadata": {
        "id": "RwxfVB3GVVO2"
      },
      "outputs": [],
      "source": [
        "batch_size = 128"
      ]
    },
    {
      "cell_type": "markdown",
      "metadata": {
        "id": "MXKs-A-gVVO2"
      },
      "source": [
        "https://stackoverflow.com/questions/46444018/meaning-of-buffer-size-in-dataset-map-dataset-prefetch-and-dataset-shuffle\n",
        "\n",
        "The buffer_size in Dataset.shuffle() can affect the randomness of your dataset, and hence the order in which elements are produced."
      ]
    },
    {
      "cell_type": "code",
      "execution_count": 42,
      "metadata": {
        "id": "v-zaQbnCVVO2"
      },
      "outputs": [],
      "source": [
        "my_data = X_train\n",
        "# my_data = only_zeros"
      ]
    },
    {
      "cell_type": "code",
      "execution_count": 43,
      "metadata": {
        "id": "MXcC0xMVVVO2"
      },
      "outputs": [],
      "source": [
        "dataset = tf.data.Dataset.from_tensor_slices(my_data).shuffle(buffer_size=1000)"
      ]
    },
    {
      "cell_type": "code",
      "execution_count": 44,
      "metadata": {
        "colab": {
          "base_uri": "https://localhost:8080/",
          "height": 139
        },
        "id": "XpZuyBjHVVO2",
        "outputId": "18868055-b90c-48bf-d4ae-05a2773288bb"
      },
      "outputs": [
        {
          "output_type": "execute_result",
          "data": {
            "text/plain": [
              "tensorflow.python.data.ops.shuffle_op._ShuffleDataset"
            ],
            "text/html": [
              "<div style=\"max-width:800px; border: 1px solid var(--colab-border-color);\"><style>\n",
              "      pre.function-repr-contents {\n",
              "        overflow-x: auto;\n",
              "        padding: 8px 12px;\n",
              "        max-height: 500px;\n",
              "      }\n",
              "\n",
              "      pre.function-repr-contents.function-repr-contents-collapsed {\n",
              "        cursor: pointer;\n",
              "        max-height: 100px;\n",
              "      }\n",
              "    </style>\n",
              "    <pre style=\"white-space: initial; background:\n",
              "         var(--colab-secondary-surface-color); padding: 8px 12px;\n",
              "         border-bottom: 1px solid var(--colab-border-color);\"><b>tensorflow.python.data.ops.shuffle_op._ShuffleDataset</b><br/>def __init__(input_dataset, buffer_size, seed=None, reshuffle_each_iteration=True, name=None)</pre><pre class=\"function-repr-contents function-repr-contents-collapsed\" style=\"\"><a class=\"filepath\" style=\"display:none\" href=\"#\">/usr/local/lib/python3.12/dist-packages/tensorflow/python/data/ops/shuffle_op.py</a>A `Dataset` that randomly shuffles the elements of its input.</pre>\n",
              "      <script>\n",
              "      if (google.colab.kernel.accessAllowed && google.colab.files && google.colab.files.view) {\n",
              "        for (const element of document.querySelectorAll('.filepath')) {\n",
              "          element.style.display = 'block'\n",
              "          element.onclick = (event) => {\n",
              "            event.preventDefault();\n",
              "            event.stopPropagation();\n",
              "            google.colab.files.view(element.textContent, 36);\n",
              "          };\n",
              "        }\n",
              "      }\n",
              "      for (const element of document.querySelectorAll('.function-repr-contents')) {\n",
              "        element.onclick = (event) => {\n",
              "          event.preventDefault();\n",
              "          event.stopPropagation();\n",
              "          element.classList.toggle('function-repr-contents-collapsed');\n",
              "        };\n",
              "      }\n",
              "      </script>\n",
              "      </div>"
            ]
          },
          "metadata": {},
          "execution_count": 44
        }
      ],
      "source": [
        "type(dataset)"
      ]
    },
    {
      "cell_type": "code",
      "execution_count": 45,
      "metadata": {
        "id": "wavdefUqVVO2"
      },
      "outputs": [],
      "source": [
        "dataset = dataset.batch(batch_size, drop_remainder=True).prefetch(1)"
      ]
    },
    {
      "cell_type": "code",
      "execution_count": 46,
      "metadata": {
        "id": "X3vsVF4oVVO2"
      },
      "outputs": [],
      "source": [
        "epochs = 20"
      ]
    },
    {
      "cell_type": "markdown",
      "metadata": {
        "id": "NETnFsM9VVO2"
      },
      "source": [
        "**NOTE: The generator never actually sees any real images. It learns by viewing the gradients going back through the discriminator. The better the discrimnator gets through training, the more information the discriminator contains in its gradients, which means the generator can being to make progress in learning how to generate fake images, in our case, fake zeros.**\n",
        "\n",
        "## Training Loop"
      ]
    },
    {
      "cell_type": "code",
      "execution_count": 47,
      "metadata": {
        "colab": {
          "base_uri": "https://localhost:8080/"
        },
        "id": "eSaplcarVVO3",
        "outputId": "017491ca-8497-46ff-a88e-dd901142214d"
      },
      "outputs": [
        {
          "output_type": "stream",
          "name": "stdout",
          "text": [
            "Currently on Epoch 1\n",
            "\tCurrently on batch number 20 of 390\n",
            "\tCurrently on batch number 40 of 390\n",
            "\tCurrently on batch number 60 of 390\n",
            "\tCurrently on batch number 80 of 390\n",
            "\tCurrently on batch number 100 of 390\n",
            "\tCurrently on batch number 120 of 390\n",
            "\tCurrently on batch number 140 of 390\n",
            "\tCurrently on batch number 160 of 390\n",
            "\tCurrently on batch number 180 of 390\n",
            "\tCurrently on batch number 200 of 390\n",
            "\tCurrently on batch number 220 of 390\n",
            "\tCurrently on batch number 240 of 390\n",
            "\tCurrently on batch number 260 of 390\n",
            "\tCurrently on batch number 280 of 390\n",
            "\tCurrently on batch number 300 of 390\n",
            "\tCurrently on batch number 320 of 390\n",
            "\tCurrently on batch number 340 of 390\n",
            "\tCurrently on batch number 360 of 390\n",
            "\tCurrently on batch number 380 of 390\n",
            "Currently on Epoch 2\n",
            "\tCurrently on batch number 20 of 390\n",
            "\tCurrently on batch number 40 of 390\n",
            "\tCurrently on batch number 60 of 390\n",
            "\tCurrently on batch number 80 of 390\n",
            "\tCurrently on batch number 100 of 390\n",
            "\tCurrently on batch number 120 of 390\n",
            "\tCurrently on batch number 140 of 390\n",
            "\tCurrently on batch number 160 of 390\n",
            "\tCurrently on batch number 180 of 390\n",
            "\tCurrently on batch number 200 of 390\n",
            "\tCurrently on batch number 220 of 390\n",
            "\tCurrently on batch number 240 of 390\n",
            "\tCurrently on batch number 260 of 390\n",
            "\tCurrently on batch number 280 of 390\n",
            "\tCurrently on batch number 300 of 390\n",
            "\tCurrently on batch number 320 of 390\n",
            "\tCurrently on batch number 340 of 390\n",
            "\tCurrently on batch number 360 of 390\n",
            "\tCurrently on batch number 380 of 390\n",
            "Currently on Epoch 3\n",
            "\tCurrently on batch number 20 of 390\n",
            "\tCurrently on batch number 40 of 390\n",
            "\tCurrently on batch number 60 of 390\n",
            "\tCurrently on batch number 80 of 390\n",
            "\tCurrently on batch number 100 of 390\n",
            "\tCurrently on batch number 120 of 390\n",
            "\tCurrently on batch number 140 of 390\n",
            "\tCurrently on batch number 160 of 390\n",
            "\tCurrently on batch number 180 of 390\n",
            "\tCurrently on batch number 200 of 390\n",
            "\tCurrently on batch number 220 of 390\n",
            "\tCurrently on batch number 240 of 390\n",
            "\tCurrently on batch number 260 of 390\n",
            "\tCurrently on batch number 280 of 390\n",
            "\tCurrently on batch number 300 of 390\n",
            "\tCurrently on batch number 320 of 390\n",
            "\tCurrently on batch number 340 of 390\n",
            "\tCurrently on batch number 360 of 390\n",
            "\tCurrently on batch number 380 of 390\n",
            "Currently on Epoch 4\n",
            "\tCurrently on batch number 20 of 390\n",
            "\tCurrently on batch number 40 of 390\n",
            "\tCurrently on batch number 60 of 390\n",
            "\tCurrently on batch number 80 of 390\n",
            "\tCurrently on batch number 100 of 390\n",
            "\tCurrently on batch number 120 of 390\n",
            "\tCurrently on batch number 140 of 390\n",
            "\tCurrently on batch number 160 of 390\n",
            "\tCurrently on batch number 180 of 390\n",
            "\tCurrently on batch number 200 of 390\n",
            "\tCurrently on batch number 220 of 390\n",
            "\tCurrently on batch number 240 of 390\n",
            "\tCurrently on batch number 260 of 390\n",
            "\tCurrently on batch number 280 of 390\n",
            "\tCurrently on batch number 300 of 390\n",
            "\tCurrently on batch number 320 of 390\n",
            "\tCurrently on batch number 340 of 390\n",
            "\tCurrently on batch number 360 of 390\n",
            "\tCurrently on batch number 380 of 390\n",
            "Currently on Epoch 5\n",
            "\tCurrently on batch number 20 of 390\n",
            "\tCurrently on batch number 40 of 390\n",
            "\tCurrently on batch number 60 of 390\n",
            "\tCurrently on batch number 80 of 390\n",
            "\tCurrently on batch number 100 of 390\n",
            "\tCurrently on batch number 120 of 390\n",
            "\tCurrently on batch number 140 of 390\n",
            "\tCurrently on batch number 160 of 390\n",
            "\tCurrently on batch number 180 of 390\n",
            "\tCurrently on batch number 200 of 390\n",
            "\tCurrently on batch number 220 of 390\n",
            "\tCurrently on batch number 240 of 390\n",
            "\tCurrently on batch number 260 of 390\n",
            "\tCurrently on batch number 280 of 390\n",
            "\tCurrently on batch number 300 of 390\n",
            "\tCurrently on batch number 320 of 390\n",
            "\tCurrently on batch number 340 of 390\n",
            "\tCurrently on batch number 360 of 390\n",
            "\tCurrently on batch number 380 of 390\n",
            "Currently on Epoch 6\n",
            "\tCurrently on batch number 20 of 390\n",
            "\tCurrently on batch number 40 of 390\n",
            "\tCurrently on batch number 60 of 390\n",
            "\tCurrently on batch number 80 of 390\n",
            "\tCurrently on batch number 100 of 390\n",
            "\tCurrently on batch number 120 of 390\n",
            "\tCurrently on batch number 140 of 390\n",
            "\tCurrently on batch number 160 of 390\n",
            "\tCurrently on batch number 180 of 390\n",
            "\tCurrently on batch number 200 of 390\n",
            "\tCurrently on batch number 220 of 390\n",
            "\tCurrently on batch number 240 of 390\n",
            "\tCurrently on batch number 260 of 390\n",
            "\tCurrently on batch number 280 of 390\n",
            "\tCurrently on batch number 300 of 390\n",
            "\tCurrently on batch number 320 of 390\n",
            "\tCurrently on batch number 340 of 390\n",
            "\tCurrently on batch number 360 of 390\n",
            "\tCurrently on batch number 380 of 390\n",
            "Currently on Epoch 7\n",
            "\tCurrently on batch number 20 of 390\n",
            "\tCurrently on batch number 40 of 390\n",
            "\tCurrently on batch number 60 of 390\n",
            "\tCurrently on batch number 80 of 390\n",
            "\tCurrently on batch number 100 of 390\n",
            "\tCurrently on batch number 120 of 390\n",
            "\tCurrently on batch number 140 of 390\n",
            "\tCurrently on batch number 160 of 390\n",
            "\tCurrently on batch number 180 of 390\n",
            "\tCurrently on batch number 200 of 390\n",
            "\tCurrently on batch number 220 of 390\n",
            "\tCurrently on batch number 240 of 390\n",
            "\tCurrently on batch number 260 of 390\n",
            "\tCurrently on batch number 280 of 390\n",
            "\tCurrently on batch number 300 of 390\n",
            "\tCurrently on batch number 320 of 390\n",
            "\tCurrently on batch number 340 of 390\n",
            "\tCurrently on batch number 360 of 390\n",
            "\tCurrently on batch number 380 of 390\n",
            "Currently on Epoch 8\n",
            "\tCurrently on batch number 20 of 390\n",
            "\tCurrently on batch number 40 of 390\n",
            "\tCurrently on batch number 60 of 390\n",
            "\tCurrently on batch number 80 of 390\n",
            "\tCurrently on batch number 100 of 390\n",
            "\tCurrently on batch number 120 of 390\n",
            "\tCurrently on batch number 140 of 390\n",
            "\tCurrently on batch number 160 of 390\n",
            "\tCurrently on batch number 180 of 390\n",
            "\tCurrently on batch number 200 of 390\n",
            "\tCurrently on batch number 220 of 390\n",
            "\tCurrently on batch number 240 of 390\n",
            "\tCurrently on batch number 260 of 390\n",
            "\tCurrently on batch number 280 of 390\n",
            "\tCurrently on batch number 300 of 390\n",
            "\tCurrently on batch number 320 of 390\n",
            "\tCurrently on batch number 340 of 390\n",
            "\tCurrently on batch number 360 of 390\n",
            "\tCurrently on batch number 380 of 390\n",
            "Currently on Epoch 9\n",
            "\tCurrently on batch number 20 of 390\n",
            "\tCurrently on batch number 40 of 390\n",
            "\tCurrently on batch number 60 of 390\n",
            "\tCurrently on batch number 80 of 390\n",
            "\tCurrently on batch number 100 of 390\n",
            "\tCurrently on batch number 120 of 390\n",
            "\tCurrently on batch number 140 of 390\n",
            "\tCurrently on batch number 160 of 390\n",
            "\tCurrently on batch number 180 of 390\n",
            "\tCurrently on batch number 200 of 390\n",
            "\tCurrently on batch number 220 of 390\n",
            "\tCurrently on batch number 240 of 390\n",
            "\tCurrently on batch number 260 of 390\n",
            "\tCurrently on batch number 280 of 390\n",
            "\tCurrently on batch number 300 of 390\n",
            "\tCurrently on batch number 320 of 390\n",
            "\tCurrently on batch number 340 of 390\n",
            "\tCurrently on batch number 360 of 390\n",
            "\tCurrently on batch number 380 of 390\n",
            "Currently on Epoch 10\n",
            "\tCurrently on batch number 20 of 390\n",
            "\tCurrently on batch number 40 of 390\n",
            "\tCurrently on batch number 60 of 390\n",
            "\tCurrently on batch number 80 of 390\n",
            "\tCurrently on batch number 100 of 390\n",
            "\tCurrently on batch number 120 of 390\n",
            "\tCurrently on batch number 140 of 390\n",
            "\tCurrently on batch number 160 of 390\n",
            "\tCurrently on batch number 180 of 390\n",
            "\tCurrently on batch number 200 of 390\n",
            "\tCurrently on batch number 220 of 390\n",
            "\tCurrently on batch number 240 of 390\n",
            "\tCurrently on batch number 260 of 390\n",
            "\tCurrently on batch number 280 of 390\n",
            "\tCurrently on batch number 300 of 390\n",
            "\tCurrently on batch number 320 of 390\n",
            "\tCurrently on batch number 340 of 390\n",
            "\tCurrently on batch number 360 of 390\n",
            "\tCurrently on batch number 380 of 390\n",
            "Currently on Epoch 11\n",
            "\tCurrently on batch number 20 of 390\n",
            "\tCurrently on batch number 40 of 390\n",
            "\tCurrently on batch number 60 of 390\n",
            "\tCurrently on batch number 80 of 390\n",
            "\tCurrently on batch number 100 of 390\n",
            "\tCurrently on batch number 120 of 390\n",
            "\tCurrently on batch number 140 of 390\n",
            "\tCurrently on batch number 160 of 390\n",
            "\tCurrently on batch number 180 of 390\n",
            "\tCurrently on batch number 200 of 390\n",
            "\tCurrently on batch number 220 of 390\n",
            "\tCurrently on batch number 240 of 390\n",
            "\tCurrently on batch number 260 of 390\n",
            "\tCurrently on batch number 280 of 390\n",
            "\tCurrently on batch number 300 of 390\n",
            "\tCurrently on batch number 320 of 390\n",
            "\tCurrently on batch number 340 of 390\n",
            "\tCurrently on batch number 360 of 390\n",
            "\tCurrently on batch number 380 of 390\n",
            "Currently on Epoch 12\n",
            "\tCurrently on batch number 20 of 390\n",
            "\tCurrently on batch number 40 of 390\n",
            "\tCurrently on batch number 60 of 390\n",
            "\tCurrently on batch number 80 of 390\n",
            "\tCurrently on batch number 100 of 390\n",
            "\tCurrently on batch number 120 of 390\n",
            "\tCurrently on batch number 140 of 390\n",
            "\tCurrently on batch number 160 of 390\n",
            "\tCurrently on batch number 180 of 390\n",
            "\tCurrently on batch number 200 of 390\n",
            "\tCurrently on batch number 220 of 390\n",
            "\tCurrently on batch number 240 of 390\n",
            "\tCurrently on batch number 260 of 390\n",
            "\tCurrently on batch number 280 of 390\n",
            "\tCurrently on batch number 300 of 390\n",
            "\tCurrently on batch number 320 of 390\n",
            "\tCurrently on batch number 340 of 390\n",
            "\tCurrently on batch number 360 of 390\n",
            "\tCurrently on batch number 380 of 390\n",
            "Currently on Epoch 13\n",
            "\tCurrently on batch number 20 of 390\n",
            "\tCurrently on batch number 40 of 390\n",
            "\tCurrently on batch number 60 of 390\n",
            "\tCurrently on batch number 80 of 390\n",
            "\tCurrently on batch number 100 of 390\n",
            "\tCurrently on batch number 120 of 390\n",
            "\tCurrently on batch number 140 of 390\n",
            "\tCurrently on batch number 160 of 390\n",
            "\tCurrently on batch number 180 of 390\n",
            "\tCurrently on batch number 200 of 390\n",
            "\tCurrently on batch number 220 of 390\n",
            "\tCurrently on batch number 240 of 390\n",
            "\tCurrently on batch number 260 of 390\n",
            "\tCurrently on batch number 280 of 390\n",
            "\tCurrently on batch number 300 of 390\n",
            "\tCurrently on batch number 320 of 390\n",
            "\tCurrently on batch number 340 of 390\n",
            "\tCurrently on batch number 360 of 390\n",
            "\tCurrently on batch number 380 of 390\n",
            "Currently on Epoch 14\n",
            "\tCurrently on batch number 20 of 390\n",
            "\tCurrently on batch number 40 of 390\n",
            "\tCurrently on batch number 60 of 390\n",
            "\tCurrently on batch number 80 of 390\n",
            "\tCurrently on batch number 100 of 390\n",
            "\tCurrently on batch number 120 of 390\n",
            "\tCurrently on batch number 140 of 390\n",
            "\tCurrently on batch number 160 of 390\n",
            "\tCurrently on batch number 180 of 390\n",
            "\tCurrently on batch number 200 of 390\n",
            "\tCurrently on batch number 220 of 390\n",
            "\tCurrently on batch number 240 of 390\n",
            "\tCurrently on batch number 260 of 390\n",
            "\tCurrently on batch number 280 of 390\n",
            "\tCurrently on batch number 300 of 390\n",
            "\tCurrently on batch number 320 of 390\n",
            "\tCurrently on batch number 340 of 390\n",
            "\tCurrently on batch number 360 of 390\n",
            "\tCurrently on batch number 380 of 390\n",
            "Currently on Epoch 15\n",
            "\tCurrently on batch number 20 of 390\n",
            "\tCurrently on batch number 40 of 390\n",
            "\tCurrently on batch number 60 of 390\n",
            "\tCurrently on batch number 80 of 390\n",
            "\tCurrently on batch number 100 of 390\n",
            "\tCurrently on batch number 120 of 390\n",
            "\tCurrently on batch number 140 of 390\n",
            "\tCurrently on batch number 160 of 390\n",
            "\tCurrently on batch number 180 of 390\n",
            "\tCurrently on batch number 200 of 390\n",
            "\tCurrently on batch number 220 of 390\n",
            "\tCurrently on batch number 240 of 390\n",
            "\tCurrently on batch number 260 of 390\n",
            "\tCurrently on batch number 280 of 390\n",
            "\tCurrently on batch number 300 of 390\n",
            "\tCurrently on batch number 320 of 390\n",
            "\tCurrently on batch number 340 of 390\n",
            "\tCurrently on batch number 360 of 390\n",
            "\tCurrently on batch number 380 of 390\n",
            "Currently on Epoch 16\n",
            "\tCurrently on batch number 20 of 390\n",
            "\tCurrently on batch number 40 of 390\n",
            "\tCurrently on batch number 60 of 390\n",
            "\tCurrently on batch number 80 of 390\n",
            "\tCurrently on batch number 100 of 390\n",
            "\tCurrently on batch number 120 of 390\n",
            "\tCurrently on batch number 140 of 390\n",
            "\tCurrently on batch number 160 of 390\n",
            "\tCurrently on batch number 180 of 390\n",
            "\tCurrently on batch number 200 of 390\n",
            "\tCurrently on batch number 220 of 390\n",
            "\tCurrently on batch number 240 of 390\n",
            "\tCurrently on batch number 260 of 390\n",
            "\tCurrently on batch number 280 of 390\n",
            "\tCurrently on batch number 300 of 390\n",
            "\tCurrently on batch number 320 of 390\n",
            "\tCurrently on batch number 340 of 390\n",
            "\tCurrently on batch number 360 of 390\n",
            "\tCurrently on batch number 380 of 390\n",
            "Currently on Epoch 17\n",
            "\tCurrently on batch number 20 of 390\n",
            "\tCurrently on batch number 40 of 390\n",
            "\tCurrently on batch number 60 of 390\n",
            "\tCurrently on batch number 80 of 390\n",
            "\tCurrently on batch number 100 of 390\n",
            "\tCurrently on batch number 120 of 390\n",
            "\tCurrently on batch number 140 of 390\n",
            "\tCurrently on batch number 160 of 390\n",
            "\tCurrently on batch number 180 of 390\n",
            "\tCurrently on batch number 200 of 390\n",
            "\tCurrently on batch number 220 of 390\n",
            "\tCurrently on batch number 240 of 390\n",
            "\tCurrently on batch number 260 of 390\n",
            "\tCurrently on batch number 280 of 390\n",
            "\tCurrently on batch number 300 of 390\n",
            "\tCurrently on batch number 320 of 390\n",
            "\tCurrently on batch number 340 of 390\n",
            "\tCurrently on batch number 360 of 390\n",
            "\tCurrently on batch number 380 of 390\n",
            "Currently on Epoch 18\n",
            "\tCurrently on batch number 20 of 390\n",
            "\tCurrently on batch number 40 of 390\n",
            "\tCurrently on batch number 60 of 390\n",
            "\tCurrently on batch number 80 of 390\n",
            "\tCurrently on batch number 100 of 390\n",
            "\tCurrently on batch number 120 of 390\n",
            "\tCurrently on batch number 140 of 390\n",
            "\tCurrently on batch number 160 of 390\n",
            "\tCurrently on batch number 180 of 390\n",
            "\tCurrently on batch number 200 of 390\n",
            "\tCurrently on batch number 220 of 390\n",
            "\tCurrently on batch number 240 of 390\n",
            "\tCurrently on batch number 260 of 390\n",
            "\tCurrently on batch number 280 of 390\n",
            "\tCurrently on batch number 300 of 390\n",
            "\tCurrently on batch number 320 of 390\n",
            "\tCurrently on batch number 340 of 390\n",
            "\tCurrently on batch number 360 of 390\n",
            "\tCurrently on batch number 380 of 390\n",
            "Currently on Epoch 19\n",
            "\tCurrently on batch number 20 of 390\n",
            "\tCurrently on batch number 40 of 390\n",
            "\tCurrently on batch number 60 of 390\n",
            "\tCurrently on batch number 80 of 390\n",
            "\tCurrently on batch number 100 of 390\n",
            "\tCurrently on batch number 120 of 390\n",
            "\tCurrently on batch number 140 of 390\n",
            "\tCurrently on batch number 160 of 390\n",
            "\tCurrently on batch number 180 of 390\n",
            "\tCurrently on batch number 200 of 390\n",
            "\tCurrently on batch number 220 of 390\n",
            "\tCurrently on batch number 240 of 390\n",
            "\tCurrently on batch number 260 of 390\n",
            "\tCurrently on batch number 280 of 390\n",
            "\tCurrently on batch number 300 of 390\n",
            "\tCurrently on batch number 320 of 390\n",
            "\tCurrently on batch number 340 of 390\n",
            "\tCurrently on batch number 360 of 390\n",
            "\tCurrently on batch number 380 of 390\n",
            "Currently on Epoch 20\n",
            "\tCurrently on batch number 20 of 390\n",
            "\tCurrently on batch number 40 of 390\n",
            "\tCurrently on batch number 60 of 390\n",
            "\tCurrently on batch number 80 of 390\n",
            "\tCurrently on batch number 100 of 390\n",
            "\tCurrently on batch number 120 of 390\n",
            "\tCurrently on batch number 140 of 390\n",
            "\tCurrently on batch number 160 of 390\n",
            "\tCurrently on batch number 180 of 390\n",
            "\tCurrently on batch number 200 of 390\n",
            "\tCurrently on batch number 220 of 390\n",
            "\tCurrently on batch number 240 of 390\n",
            "\tCurrently on batch number 260 of 390\n",
            "\tCurrently on batch number 280 of 390\n",
            "\tCurrently on batch number 300 of 390\n",
            "\tCurrently on batch number 320 of 390\n",
            "\tCurrently on batch number 340 of 390\n",
            "\tCurrently on batch number 360 of 390\n",
            "\tCurrently on batch number 380 of 390\n",
            "TRAINING COMPLETE\n"
          ]
        }
      ],
      "source": [
        "# Grab the seprate components\n",
        "generator, discriminator = GAN.layers\n",
        "\n",
        "# For every epcoh\n",
        "for epoch in range(epochs):\n",
        "    print(f\"Currently on Epoch {epoch+1}\")\n",
        "    i = 0\n",
        "    # For every batch in the dataset\n",
        "    for X_batch in dataset:\n",
        "        i=i+1\n",
        "        if i%20 == 0:\n",
        "            print(f\"\\tCurrently on batch number {i} of {len(my_data)//batch_size}\")\n",
        "        #####################################\n",
        "        ## TRAINING THE DISCRIMINATOR ######\n",
        "        ###################################\n",
        "\n",
        "        # Create Noise\n",
        "        noise = tf.random.normal(shape=[batch_size, codings_size])\n",
        "\n",
        "        # Generate numbers based just on noise input\n",
        "        gen_images = generator(noise)\n",
        "\n",
        "        # Concatenate Generated Images against the Real Ones\n",
        "        # TO use tf.concat, the data types must match!\n",
        "        X_fake_vs_real = tf.concat([gen_images, tf.dtypes.cast(X_batch,tf.float32)], axis=0)\n",
        "\n",
        "        # Targets set to zero for fake images and 1 for real images\n",
        "        y1 = tf.constant([[0.]] * batch_size + [[1.]] * batch_size)\n",
        "\n",
        "        # This gets rid of a Keras warning\n",
        "        discriminator.trainable = True\n",
        "\n",
        "        # Train the discriminator on this batch\n",
        "        discriminator.train_on_batch(X_fake_vs_real, y1)\n",
        "\n",
        "\n",
        "        #####################################\n",
        "        ## TRAINING THE GENERATOR     ######\n",
        "        ###################################\n",
        "\n",
        "        # Create some noise\n",
        "        noise = tf.random.normal(shape=[batch_size, codings_size])\n",
        "\n",
        "        # We want discriminator to belive that fake images are real\n",
        "        y2 = tf.constant([[1.]] * batch_size)\n",
        "\n",
        "        # Avois a warning\n",
        "        discriminator.trainable = False\n",
        "\n",
        "        GAN.train_on_batch(noise, y2)\n",
        "\n",
        "print(\"TRAINING COMPLETE\")"
      ]
    },
    {
      "cell_type": "code",
      "execution_count": 48,
      "metadata": {
        "id": "G6neV4UGVVO3"
      },
      "outputs": [],
      "source": [
        "# Most likely your generator will only learn to create one type of noisey zero\n",
        "# Regardless of what noise is passed in."
      ]
    },
    {
      "cell_type": "markdown",
      "metadata": {
        "id": "YRqZPPQ_VVO3"
      },
      "source": [
        "https://www.quora.com/What-does-it-mean-if-all-produced-images-of-a-GAN-look-the-same"
      ]
    },
    {
      "cell_type": "code",
      "execution_count": 49,
      "metadata": {
        "id": "2IEOn_aoVVO3"
      },
      "outputs": [],
      "source": [
        "noise = tf.random.normal(shape=[10, codings_size])"
      ]
    },
    {
      "cell_type": "code",
      "execution_count": 50,
      "metadata": {
        "id": "j7VaVFEfVVO5",
        "colab": {
          "base_uri": "https://localhost:8080/"
        },
        "outputId": "bdba5abe-a275-4934-81cc-5d6023b1620d"
      },
      "outputs": [
        {
          "output_type": "execute_result",
          "data": {
            "text/plain": [
              "TensorShape([10, 100])"
            ]
          },
          "metadata": {},
          "execution_count": 50
        }
      ],
      "source": [
        "noise.shape"
      ]
    },
    {
      "cell_type": "code",
      "execution_count": 51,
      "metadata": {
        "id": "ay3vVQAtVVO5",
        "colab": {
          "base_uri": "https://localhost:8080/",
          "height": 131
        },
        "outputId": "3f625637-96cd-4e71-db5e-88f2884ef3fd"
      },
      "outputs": [
        {
          "output_type": "execute_result",
          "data": {
            "text/plain": [
              "<matplotlib.image.AxesImage at 0x7e18b05aacc0>"
            ]
          },
          "metadata": {},
          "execution_count": 51
        },
        {
          "output_type": "display_data",
          "data": {
            "text/plain": [
              "<Figure size 640x480 with 1 Axes>"
            ],
            "image/png": "[encoded data removed]"
          },
          "metadata": {}
        }
      ],
      "source": [
        "plt.imshow(noise)"
      ]
    },
    {
      "cell_type": "code",
      "execution_count": 52,
      "metadata": {
        "id": "_xR7inZIVVO5"
      },
      "outputs": [],
      "source": [
        "images = generator(noise)"
      ]
    },
    {
      "cell_type": "code",
      "execution_count": 53,
      "metadata": {
        "id": "yT3jy1ppVVO5"
      },
      "outputs": [],
      "source": [
        "single_image = images[0]"
      ]
    },
    {
      "cell_type": "code",
      "execution_count": 54,
      "metadata": {
        "id": "q_o0NmIeVVO5"
      },
      "outputs": [],
      "source": [
        "# single_image.numpy().reshape(28,28)"
      ]
    },
    {
      "cell_type": "code",
      "execution_count": 55,
      "metadata": {
        "id": "BZIYBMHjVVO5",
        "colab": {
          "base_uri": "https://localhost:8080/",
          "height": 1000
        },
        "outputId": "56d564e6-fcce-41f5-f7a4-e3f30aecb5f8"
      },
      "outputs": [
        {
          "output_type": "stream",
          "name": "stderr",
          "text": [
            "WARNING:matplotlib.image:Clipping input data to the valid range for imshow with RGB data ([0..1] for floats or [0..255] for integers). Got range [-0.9984824..0.96432215].\n"
          ]
        },
        {
          "output_type": "display_data",
          "data": {
            "text/plain": [
              "<Figure size 640x480 with 1 Axes>"
            ],
            "image/png": "[encoded data removed]"
          },
          "metadata": {}
        },
        {
          "output_type": "stream",
          "name": "stderr",
          "text": [
            "WARNING:matplotlib.image:Clipping input data to the valid range for imshow with RGB data ([0..1] for floats or [0..255] for integers). Got range [-1.0..0.8687815].\n"
          ]
        },
        {
          "output_type": "display_data",
          "data": {
            "text/plain": [
              "<Figure size 640x480 with 1 Axes>"
            ],
            "image/png": "[encoded data removed]"
          },
          "metadata": {}
        },
        {
          "output_type": "stream",
          "name": "stderr",
          "text": [
            "WARNING:matplotlib.image:Clipping input data to the valid range for imshow with RGB data ([0..1] for floats or [0..255] for integers). Got range [-0.99804485..1.0].\n"
          ]
        },
        {
          "output_type": "display_data",
          "data": {
            "text/plain": [
              "<Figure size 640x480 with 1 Axes>"
            ],
            "image/png": "[encoded data removed]"
          },
          "metadata": {}
        },
        {
          "output_type": "stream",
          "name": "stderr",
          "text": [
            "WARNING:matplotlib.image:Clipping input data to the valid range for imshow with RGB data ([0..1] for floats or [0..255] for integers). Got range [-0.99937576..0.9999993].\n"
          ]
        },
        {
          "output_type": "display_data",
          "data": {
            "text/plain": [
              "<Figure size 640x480 with 1 Axes>"
            ],
            "image/png": "[encoded data removed]"
          },
          "metadata": {}
        },
        {
          "output_type": "stream",
          "name": "stderr",
          "text": [
            "WARNING:matplotlib.image:Clipping input data to the valid range for imshow with RGB data ([0..1] for floats or [0..255] for integers). Got range [-1.0..0.9999326].\n"
          ]
        },
        {
          "output_type": "display_data",
          "data": {
            "text/plain": [
              "<Figure size 640x480 with 1 Axes>"
            ],
            "image/png": "[encoded data removed]"
          },
          "metadata": {}
        },
        {
          "output_type": "stream",
          "name": "stderr",
          "text": [
            "WARNING:matplotlib.image:Clipping input data to the valid range for imshow with RGB data ([0..1] for floats or [0..255] for integers). Got range [-0.9997581..0.9999506].\n"
          ]
        },
        {
          "output_type": "display_data",
          "data": {
            "text/plain": [
              "<Figure size 640x480 with 1 Axes>"
            ],
            "image/png": "[encoded data removed]"
          },
          "metadata": {}
        },
        {
          "output_type": "stream",
          "name": "stderr",
          "text": [
            "WARNING:matplotlib.image:Clipping input data to the valid range for imshow with RGB data ([0..1] for floats or [0..255] for integers). Got range [-1.0..0.8926295].\n"
          ]
        },
        {
          "output_type": "display_data",
          "data": {
            "text/plain": [
              "<Figure size 640x480 with 1 Axes>"
            ],
            "image/png": "[encoded data removed]"
          },
          "metadata": {}
        },
        {
          "output_type": "stream",
          "name": "stderr",
          "text": [
            "WARNING:matplotlib.image:Clipping input data to the valid range for imshow with RGB data ([0..1] for floats or [0..255] for integers). Got range [-1.0..0.94673216].\n"
          ]
        },
        {
          "output_type": "display_data",
          "data": {
            "text/plain": [
              "<Figure size 640x480 with 1 Axes>"
            ],
            "image/png": "[encoded data removed]"
          },
          "metadata": {}
        },
        {
          "output_type": "stream",
          "name": "stderr",
          "text": [
            "WARNING:matplotlib.image:Clipping input data to the valid range for imshow with RGB data ([0..1] for floats or [0..255] for integers). Got range [-0.9996399..0.9999943].\n"
          ]
        },
        {
          "output_type": "display_data",
          "data": {
            "text/plain": [
              "<Figure size 640x480 with 1 Axes>"
            ],
            "image/png": "[encoded data removed]"
          },
          "metadata": {}
        },
        {
          "output_type": "stream",
          "name": "stderr",
          "text": [
            "WARNING:matplotlib.image:Clipping input data to the valid range for imshow with RGB data ([0..1] for floats or [0..255] for integers). Got range [-0.97639346..1.0].\n"
          ]
        },
        {
          "output_type": "display_data",
          "data": {
            "text/plain": [
              "<Figure size 640x480 with 1 Axes>"
            ],
            "image/png": "[encoded data removed]"
          },
          "metadata": {}
        }
      ],
      "source": [
        "for image in images:\n",
        "    plt.imshow(image.numpy().reshape(32,32,3))\n",
        "    plt.show()"
      ]
    },
    {
      "cell_type": "markdown",
      "metadata": {
        "id": "6beQkiQLVVO5"
      },
      "source": [
        "**Review our conclusion video to learn about what is state-of-the-art in this field! We need very powerful GPUs to achieve realistic results!**"
      ]
    }
  ],
  "metadata": {
    "kernelspec": {
      "display_name": "Python 3",
      "name": "python3"
    },
    "language_info": {
      "codemirror_mode": {
        "name": "ipython",
        "version": 3
      },
      "file_extension": ".py",
      "mimetype": "text/x-python",
      "name": "python",
      "nbconvert_exporter": "python",
      "pygments_lexer": "ipython3",
      "version": "3.7.5"
    },
    "colab": {
      "provenance": [],
      "gpuType": "T4"
    },
    "accelerator": "GPU"
  },
  "nbformat": 4,
  "nbformat_minor": 0
}